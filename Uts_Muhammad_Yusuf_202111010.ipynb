{
  "nbformat": 4,
  "nbformat_minor": 0,
  "metadata": {
    "colab": {
      "provenance": []
    },
    "kernelspec": {
      "name": "python3",
      "display_name": "Python 3"
    },
    "language_info": {
      "name": "python"
    }
  },
  "cells": [
    {
      "cell_type": "code",
      "execution_count": 1,
      "metadata": {
        "colab": {
          "base_uri": "https://localhost:8080/",
          "height": 0
        },
        "id": "oA7SX2wEUBrX",
        "outputId": "40ddd06b-5d22-44d4-f4a8-8fd73f973d5e"
      },
      "outputs": [
        {
          "output_type": "stream",
          "name": "stdout",
          "text": [
            "Dimensi Data Training: (120, 4)\n",
            "Dimensi Data Testing: (30, 4)\n"
          ]
        }
      ],
      "source": [
        "# Import library yang diperlukan\n",
        "from sklearn import datasets\n",
        "from sklearn.model_selection import train_test_split\n",
        "\n",
        "# Load dataset Iris\n",
        "iris = datasets.load_iris()\n",
        "X = iris.data\n",
        "y = iris.target\n",
        "\n",
        "# Pisahkan data menjadi data training dan testing (80:20)\n",
        "X_train, X_test, y_train, y_test = train_test_split(X, y, test_size=0.2, random_state=42)\n",
        "\n",
        "# Cek dimensi data training dan testing\n",
        "print(\"Dimensi Data Training:\", X_train.shape)\n",
        "print(\"Dimensi Data Testing:\", X_test.shape)\n"
      ]
    },
    {
      "cell_type": "code",
      "source": [
        "from sklearn.neighbors import KNeighborsClassifier\n",
        "from sklearn.metrics import accuracy_score\n",
        "\n",
        "# Latih model K-NN dengan k=3\n",
        "knn_model = KNeighborsClassifier(n_neighbors=3)\n",
        "knn_model.fit(X_train, y_train)\n",
        "\n",
        "# Lakukan prediksi terhadap data testing\n",
        "y_pred_knn = knn_model.predict(X_test)\n",
        "\n",
        "# Hitung akurasi model K-NN\n",
        "akurasi_knn = accuracy_score(y_test, y_pred_knn)\n",
        "print(\"Tingkat Akurasi Model K-NN: %d persen\" % (akurasi_knn * 100))\n"
      ],
      "metadata": {
        "colab": {
          "base_uri": "https://localhost:8080/",
          "height": 0
        },
        "id": "plpHMJH5VzZo",
        "outputId": "e17538dd-119e-4058-f602-83ffb42c9208"
      },
      "execution_count": 2,
      "outputs": [
        {
          "output_type": "stream",
          "name": "stdout",
          "text": [
            "Tingkat Akurasi Model K-NN: 100 persen\n"
          ]
        }
      ]
    },
    {
      "cell_type": "code",
      "source": [
        "from sklearn.naive_bayes import GaussianNB\n",
        "from sklearn.metrics import accuracy_score\n",
        "\n",
        "# Latih model Naive Bayes\n",
        "nb_model = GaussianNB()\n",
        "nb_model.fit(X_train, y_train)\n",
        "\n",
        "# Lakukan prediksi terhadap data testing\n",
        "y_pred_nb = nb_model.predict(X_test)\n",
        "\n",
        "# Hitung akurasi model Naive Bayes\n",
        "akurasi_nb = accuracy_score(y_test, y_pred_nb)\n",
        "print(\"Tingkat Akurasi Model Naive Bayes: %d persen\" % (akurasi_nb * 100))\n"
      ],
      "metadata": {
        "colab": {
          "base_uri": "https://localhost:8080/"
        },
        "id": "AyERGItbWJNX",
        "outputId": "b620db3c-31e3-4bea-a534-03f8ff6396da"
      },
      "execution_count": 6,
      "outputs": [
        {
          "output_type": "stream",
          "name": "stdout",
          "text": [
            "Tingkat Akurasi Model Naive Bayes: 100 persen\n"
          ]
        }
      ]
    },
    {
      "cell_type": "code",
      "source": [
        "from sklearn.tree import DecisionTreeClassifier\n",
        "from sklearn.metrics import accuracy_score\n",
        "\n",
        "# Latih model C4.5\n",
        "c45_model = DecisionTreeClassifier()\n",
        "c45_model.fit(X_train, y_train)\n",
        "\n",
        "# Lakukan prediksi terhadap data testing\n",
        "y_pred_c45 = c45_model.predict(X_test)\n",
        "\n",
        "# Hitung akurasi model C4.5\n",
        "akurasi_c45 = accuracy_score(y_test, y_pred_c45)\n",
        "print(\"Tingkat Akurasi Model C4.5: %d persen\" % (akurasi_c45 * 100))\n"
      ],
      "metadata": {
        "colab": {
          "base_uri": "https://localhost:8080/",
          "height": 0
        },
        "id": "DeeKe1TPWtyG",
        "outputId": "61ec55af-4526-4664-83c8-060ae61e9a59"
      },
      "execution_count": 4,
      "outputs": [
        {
          "output_type": "stream",
          "name": "stdout",
          "text": [
            "Tingkat Akurasi Model C4.5: 100 persen\n"
          ]
        }
      ]
    },
    {
      "cell_type": "code",
      "source": [
        "from sklearn.neighbors import KNeighborsClassifier\n",
        "from sklearn.tree import DecisionTreeClassifier\n",
        "from sklearn.naive_bayes import GaussianNB\n",
        "from sklearn.metrics import accuracy_score\n",
        "\n",
        "# Latih model K-NN dengan k=3\n",
        "knn_model = KNeighborsClassifier(n_neighbors=3)\n",
        "knn_model.fit(X_train, y_train)\n",
        "\n",
        "# Lakukan prediksi terhadap data testing untuk K-NN\n",
        "y_pred_knn = knn_model.predict(X_test)\n",
        "akurasi_knn = accuracy_score(y_test, y_pred_knn)\n",
        "\n",
        "# Latih model Naive Bayes\n",
        "nb_model = GaussianNB()\n",
        "nb_model.fit(X_train, y_train)\n",
        "\n",
        "# Lakukan prediksi terhadap data testing untuk Naive Bayes\n",
        "y_pred_nb = nb_model.predict(X_test)\n",
        "akurasi_nb = accuracy_score(y_test, y_pred_nb)\n",
        "\n",
        "# Latih model C4.5\n",
        "c45_model = DecisionTreeClassifier()\n",
        "c45_model.fit(X_train, y_train)\n",
        "\n",
        "# Lakukan prediksi terhadap data testing untuk C4.5\n",
        "y_pred_c45 = c45_model.predict(X_test)\n",
        "akurasi_c45 = accuracy_score(y_test, y_pred_c45)\n",
        "\n",
        "# Bandingkan akurasi ketiga model\n",
        "print(\"Akurasi Model K-NN: %d persen\" % (akurasi_knn * 100))\n",
        "print(\"Akurasi Model Naive Bayes: %d persen\" % (akurasi_nb * 100))\n",
        "print(\"Akurasi Model C4.5: %d persen\" % (akurasi_c45 * 100))\n"
      ],
      "metadata": {
        "colab": {
          "base_uri": "https://localhost:8080/"
        },
        "id": "5ZQjvM_bW2gi",
        "outputId": "2f9a93cc-8be7-40ff-8fee-2f6d3bb90417"
      },
      "execution_count": 7,
      "outputs": [
        {
          "output_type": "stream",
          "name": "stdout",
          "text": [
            "Akurasi Model K-NN: 100 persen\n",
            "Akurasi Model Naive Bayes: 100 persen\n",
            "Akurasi Model C4.5: 100 persen\n"
          ]
        }
      ]
    }
  ]
}